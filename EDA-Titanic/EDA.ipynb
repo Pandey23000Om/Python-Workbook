{
 "cells": [
  {
   "cell_type": "markdown",
   "metadata": {},
   "source": [
    "# EDA\n"
   ]
  },
  {
   "cell_type": "markdown",
   "metadata": {},
   "source": [
    "## Key Goals of EDA\n",
    "\n",
    "### Understand feature distributions and relationships.\n",
    "### Identify key variables influencing survival.\n",
    "### Generate insights for feature engineering and model building."
   ]
  },
  {
   "cell_type": "markdown",
   "metadata": {},
   "source": [
    "## EDA PLAN\n",
    "\n",
    "### Data Overview\n",
    "\n",
    "### Univariate Analysis (Single Variable)\n",
    "\n",
    "### Bivariate Analysis (Two Variables)\n",
    "\n",
    "### Feature Engineering Insights\n",
    "\n",
    "### Advanced Visualizations\n",
    "\n",
    "### Hypothesis Testing\n"
   ]
  },
  {
   "cell_type": "code",
   "execution_count": null,
   "metadata": {
    "vscode": {
     "languageId": "plaintext"
    }
   },
   "outputs": [],
   "source": [
    "# import libraries\n",
    "import pandas as pd\n",
    "import numpy as np\n",
    "import seaborn as sns\n",
    "import matplotlib.pyplot as plt"
   ]
  },
  {
   "cell_type": "markdown",
   "metadata": {},
   "source": [
    "### Data Overview\n",
    "#### Load the dataset and check the first few rows (df.head()).\n",
    "#### Check data types, missing values, and summary statistics (df.info(), df.describe()).\n",
    "#### Verify unique values in categorical columns (df.nunique())."
   ]
  },
  {
   "cell_type": "markdown",
   "metadata": {},
   "source": [
    "### Univariate Analysis (Single Variable)\n",
    "#### Numerical Features:\n",
    "Plot distributions using histograms (sns.histplot()) or KDE plots.\n",
    "\n",
    "Check skewness (df.skew()) and consider transformations if needed.\n",
    "\n",
    "#### Categorical Features:\n",
    "\n",
    "Bar plots for Pclass, Sex, Embarked, etc.\n",
    "\n",
    "Count plots using sns.countplot() to see class distribution."
   ]
  },
  {
   "cell_type": "markdown",
   "metadata": {},
   "source": [
    "### Bivariate Analysis (Two Variables)\n",
    "#### Survival vs Features:\n",
    "Compare survival rates across different features (Pclass, Sex, Fare, Deck).\n",
    "Box plots for Fare vs Survived (sns.boxplot(x='Survived', y='Fare', data=df)).\n",
    "Stacked bar plots to analyze categorical relationships.\n",
    "#### Correlation Analysis:\n",
    "Compute correlation matrix (df.corr()) to check relationships.\n",
    "Heatmap of correlations (sns.heatmap(df.corr(), annot=True, cmap='coolwarm'))."
   ]
  },
  {
   "cell_type": "markdown",
   "metadata": {},
   "source": [
    "### Feature Engineering Insights\n",
    "\n",
    "#### Does Fare need binning? (Low, Medium, High)\n",
    "#### Group Age into categories (Child, Teen, Adult, Senior).\n",
    "#### Family Size Feature: Combine SibSp and Parch into a new feature."
   ]
  },
  {
   "cell_type": "markdown",
   "metadata": {},
   "source": [
    "### Advanced Visualizations\n",
    "#### Pairplot for numerical features: (sns.pairplot(df, hue='Survived')).\n",
    "#### Violin plots & Swarm plots for better insights.\n",
    "#### Survival rate by Deck (if Deck is created from Cabin)."
   ]
  },
  {
   "cell_type": "markdown",
   "metadata": {},
   "source": [
    "### Hypothesis Testing (Optional)\n",
    "#### Chi-Square test for categorical features (e.g., Sex vs Survived).\n",
    "#### T-test or ANOVA for numerical differences (e.g., Fare by Pclass)."
   ]
  },
  {
   "cell_type": "code",
   "execution_count": null,
   "metadata": {
    "vscode": {
     "languageId": "plaintext"
    }
   },
   "outputs": [],
   "source": []
  },
  {
   "cell_type": "markdown",
   "metadata": {},
   "source": []
  }
 ],
 "metadata": {
  "language_info": {
   "name": "python"
  }
 },
 "nbformat": 4,
 "nbformat_minor": 2
}
