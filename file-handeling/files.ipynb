{
 "cells": [
  {
   "cell_type": "code",
   "execution_count": 1,
   "metadata": {},
   "outputs": [
    {
     "name": "stdout",
     "output_type": "stream",
     "text": [
      "my file : movies.txt\n"
     ]
    }
   ],
   "source": [
    "print(\"my file : movies.txt\")"
   ]
  },
  {
   "cell_type": "markdown",
   "metadata": {},
   "source": [
    "### Read a file"
   ]
  },
  {
   "cell_type": "code",
   "execution_count": 2,
   "metadata": {},
   "outputs": [
    {
     "name": "stdout",
     "output_type": "stream",
     "text": [
      "liar liar\n",
      "\n",
      "the truman show\n",
      "\n",
      "ant man\n",
      "\n",
      "spiderman\n",
      "\n",
      "titanic\n"
     ]
    }
   ],
   "source": [
    "with open(\"movies.txt\", 'r') as file:\n",
    "  for line in file:\n",
    "    print(line)"
   ]
  },
  {
   "cell_type": "code",
   "execution_count": 3,
   "metadata": {},
   "outputs": [
    {
     "name": "stdout",
     "output_type": "stream",
     "text": [
      "liar liar\n",
      "the truman show\n",
      "ant man\n",
      "spiderman\n",
      "titanic\n"
     ]
    }
   ],
   "source": [
    "with open(\"movies.txt\", 'r') as file:\n",
    "  content=file.read()\n",
    "  print(content)"
   ]
  },
  {
   "cell_type": "code",
   "execution_count": 16,
   "metadata": {},
   "outputs": [
    {
     "name": "stdout",
     "output_type": "stream",
     "text": [
      "<class 'str'>\n"
     ]
    },
    {
     "data": {
      "text/plain": [
       "_io.TextIOWrapper"
      ]
     },
     "execution_count": 16,
     "metadata": {},
     "output_type": "execute_result"
    }
   ],
   "source": [
    "print(type(content))\n",
    "type(file)"
   ]
  },
  {
   "cell_type": "code",
   "execution_count": 12,
   "metadata": {},
   "outputs": [
    {
     "name": "stdout",
     "output_type": "stream",
     "text": [
      "['liar liar', 'the truman show', 'ant man', 'spiderman', 'titanic']\n"
     ]
    }
   ],
   "source": [
    "movie_list = content.split('\\n')\n",
    "print(movie_list)"
   ]
  },
  {
   "cell_type": "code",
   "execution_count": 14,
   "metadata": {},
   "outputs": [
    {
     "name": "stdout",
     "output_type": "stream",
     "text": [
      "liar liar\n",
      "the truman show\n",
      "ant man\n",
      "spiderman\n",
      "titanic\n"
     ]
    }
   ],
   "source": [
    "with open(\"movies.txt\", 'r') as file:\n",
    "  for line in file:\n",
    "    print(line.strip())"
   ]
  },
  {
   "cell_type": "markdown",
   "metadata": {},
   "source": [
    "### write to a file"
   ]
  },
  {
   "cell_type": "code",
   "execution_count": 17,
   "metadata": {},
   "outputs": [
    {
     "name": "stdout",
     "output_type": "stream",
     "text": [
      "venom\n"
     ]
    }
   ],
   "source": [
    "with open('movies.txt', 'w') as file:\n",
    "  file.write('venom')\n",
    "\n",
    "with open(\"movies.txt\", 'r') as file:\n",
    "  content=file.read()\n",
    "  print(content)"
   ]
  },
  {
   "cell_type": "code",
   "execution_count": 23,
   "metadata": {},
   "outputs": [
    {
     "name": "stdout",
     "output_type": "stream",
     "text": [
      "venom\n",
      "liar liar\n",
      "the truman show\n",
      "ant man\n",
      "spiderman\n",
      "titanic\n",
      "\n",
      "\n",
      "venom\n",
      "liar liar\n",
      "the truman show\n",
      "ant man\n",
      "spiderman\n",
      "titanic\n",
      "interstellar\n"
     ]
    }
   ],
   "source": [
    "with open(\"movies.txt\", 'r') as file:\n",
    "  content=file.read()\n",
    "  print(content)\n",
    "print()\n",
    "with open('movies.txt', 'a') as file:\n",
    "  file.write('\\n')\n",
    "  file.write('interstellar')\n",
    "print()\n",
    "with open(\"movies.txt\", 'r') as file:\n",
    "  content=file.read()\n",
    "  print(content)"
   ]
  },
  {
   "cell_type": "code",
   "execution_count": 24,
   "metadata": {},
   "outputs": [
    {
     "name": "stdout",
     "output_type": "stream",
     "text": [
      "\n",
      "venom\n",
      "liar liar\n",
      "the truman show\n",
      "ant man\n",
      "spiderman\n",
      "titanic\n",
      "interstellar\n",
      "quantum of shailesh\n",
      "no time to die\n",
      "gold finger\n"
     ]
    }
   ],
   "source": [
    "list_of_movies=['quantum of shailesh', 'no time to die', 'gold finger']\n",
    "with open('movies.txt', 'a') as file:\n",
    "  for movie in list_of_movies:\n",
    "    file.write('\\n')\n",
    "    file.write(movie)\n",
    "\n",
    "print()\n",
    "\n",
    "with open(\"movies.txt\", 'r') as file:\n",
    "  content=file.read()\n",
    "  print(content)"
   ]
  },
  {
   "cell_type": "code",
   "execution_count": 28,
   "metadata": {},
   "outputs": [
    {
     "name": "stdout",
     "output_type": "stream",
     "text": [
      "\n",
      "venom\n",
      "liar liar\n",
      "the truman show\n",
      "ant man\n",
      "spiderman\n",
      "titanic\n",
      "interstellar\n",
      "quantum of shailesh\n",
      "no time to die\n",
      "gold finger\n",
      "pirates \n",
      "Dr. DoLittle \n",
      " Martian \n",
      "\n"
     ]
    }
   ],
   "source": [
    "list_of_movies=['pirates \\n', 'Dr. DoLittle \\n', 'Martian \\n']\n",
    "with open('movies.txt', 'a') as file:\n",
    "  file.writelines(list_of_movies)\n",
    "\n",
    "print()\n",
    "\n",
    "with open(\"movies.txt\", 'r') as file:\n",
    "  content=file.read()\n",
    "  print(content)"
   ]
  }
 ],
 "metadata": {
  "kernelspec": {
   "display_name": "Python 3",
   "language": "python",
   "name": "python3"
  },
  "language_info": {
   "codemirror_mode": {
    "name": "ipython",
    "version": 3
   },
   "file_extension": ".py",
   "mimetype": "text/x-python",
   "name": "python",
   "nbconvert_exporter": "python",
   "pygments_lexer": "ipython3",
   "version": "3.12.0"
  }
 },
 "nbformat": 4,
 "nbformat_minor": 2
}
